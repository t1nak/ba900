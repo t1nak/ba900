{
 "cells": [
  {
   "cell_type": "markdown",
   "metadata": {},
   "source": [
    "## Load data"
   ]
  },
  {
   "cell_type": "code",
   "execution_count": 161,
   "metadata": {},
   "outputs": [
    {
     "name": "stdout",
     "output_type": "stream",
     "text": [
      "./data/output/df2013.pkl\n",
      "./data/output/df2012.pkl\n",
      "./data/output/df2010.pkl\n",
      "./data/output/df2011.pkl\n",
      "./data/output/df2015.pkl\n",
      "./data/output/df2014.pkl\n",
      "./data/output/df2016.pkl\n",
      "./data/output/df2017.pkl\n",
      "./data/output/df2019.pkl\n",
      "./data/output/df2018.pkl\n",
      "./data/output/df2008.pkl\n",
      "./data/output/df2020.pkl\n",
      "./data/output/df2009.pkl\n",
      "Index(['ColumnCode', 'ColumnDescription', 'ItemDescription', 'ItemNumber',\n",
      "       'Value', 'TableNumber', 'Type', 'Description', 'TheYear', 'TheMonth',\n",
      "       'TheDay', 'InstitutionCode', 'InstitutionDescription', 'LastModified',\n",
      "       'time'],\n",
      "      dtype='object')\n"
     ]
    }
   ],
   "source": [
    "import os\n",
    "import pandas as pd\n",
    "import matplotlib.pyplot as plt\n",
    "import numpy as np\n",
    "import datetime\n",
    "import os\n",
    "import pandas as pd\n",
    "import matplotlib.pyplot as plt\n",
    "import numpy as np\n",
    "import datetime\n",
    "file_list=[]\n",
    "\n",
    "\n",
    "for filename in os.listdir('./data/output/'):\n",
    "    if filename.endswith(\".pkl\"): # and '2008' in filename or '2009' in filename or '2010' in filename:\n",
    "        unpickle = './data/output/'+str(filename)\n",
    "        print(unpickle)\n",
    "        file_list.append(pd.read_pickle(unpickle))\n",
    " \n",
    " \n",
    "MASTER = pd.concat(file_list)\n",
    "MASTER['time'] = pd.to_datetime(MASTER['time'])\n",
    "\n",
    "print(MASTER.columns)"
   ]
  },
  {
   "cell_type": "markdown",
   "metadata": {},
   "source": [
    "## Show banks"
   ]
  },
  {
   "cell_type": "code",
   "execution_count": null,
   "metadata": {},
   "outputs": [],
   "source": [
    "all=MASTER['InstitutionDescription'].unique()"
   ]
  },
  {
   "cell_type": "markdown",
   "metadata": {},
   "source": [
    "## Make asset weights"
   ]
  },
  {
   "cell_type": "code",
   "execution_count": null,
   "metadata": {},
   "outputs": [],
   "source": [
    " #need assets_to_weights.py \n",
    "from assets_to_weights import *\n",
    "\n",
    "\n",
    "years=[str(i) for i in range(2008,2020, 1)]\n",
    "months=[\"{:02d}\".format(i) for i in range(1,13)]\n",
    "\n",
    "helper_dict={}\n",
    "\n",
    "for y in years:\n",
    "    helper_dict[y]=months\n",
    "    \n",
    "BANK = MASTER[MASTER['InstitutionDescription']=='ABSA BANK LTD ']\n",
    "BANK['Value'] = pd.to_numeric(BANK['Value'])\n",
    "\n",
    "bank_year_and_month = []\n",
    "for key in helper_dict.keys():\n",
    "    for month in helper_dict[key]:\n",
    "        \n",
    "        df_bank_key_month =  BANK[(BANK['TheYear']==key)&(BANK['TheMonth']==month)]\n",
    "#         print((month),(key),df_bank_key_month )\n",
    "        try:\n",
    "            bank_year_and_month.append(get_pf_weights_by_bank_29(df_bank_key_month))\n",
    "        except:\n",
    "            pass\n",
    " \n",
    "absa=pd.concat(bank_year_and_month) \n",
    "\n",
    "# we only need one entry per month - so select column code 7 and itemnumber 2 for example \n",
    "absa_weights=absa[(absa['ColumnCode']=='7')&(absa['ItemNumber']=='2')]\n",
    "absa_weights.index=absa_weights.time\n",
    "\n",
    "f = plt.figure()\n",
    "plt.title('ABSA portfolio weights', color='black')\n",
    " \n",
    "for column in absa_weights[absa.columns[-19:-10]]:\n",
    "    absa_weights[column].plot(legend=column, ax=f.gca())\n",
    "plt.legend(loc='center left', bbox_to_anchor=(1.0, 0.5))\n",
    "plt.show()"
   ]
  },
  {
   "cell_type": "code",
   "execution_count": null,
   "metadata": {},
   "outputs": [],
   "source": [
    "volumes =  [0,500,1000,1500,2000,2500,3000,3500,4000]"
   ]
  },
  {
   "cell_type": "markdown",
   "metadata": {},
   "source": [
    "# Show mortgages for top 4 banks"
   ]
  },
  {
   "cell_type": "code",
   "execution_count": 189,
   "metadata": {},
   "outputs": [
    {
     "name": "stderr",
     "output_type": "stream",
     "text": [
      "/Users/admin/git_repos/ba900/assets_to_weights.py:122: SettingWithCopyWarning: \n",
      "A value is trying to be set on a copy of a slice from a DataFrame.\n",
      "Try using .loc[row_indexer,col_indexer] = value instead\n",
      "\n",
      "See the caveats in the documentation: https://pandas.pydata.org/pandas-docs/stable/user_guide/indexing.html#returning-a-view-versus-a-copy\n",
      "  BANK['Value'] = pd.to_numeric(BANK['Value'])\n",
      "/Users/admin/git_repos/ba900/assets_to_weights.py:93: SettingWithCopyWarning: \n",
      "A value is trying to be set on a copy of a slice from a DataFrame.\n",
      "Try using .loc[row_indexer,col_indexer] = value instead\n",
      "\n",
      "See the caveats in the documentation: https://pandas.pydata.org/pandas-docs/stable/user_guide/indexing.html#returning-a-view-versus-a-copy\n",
      "  df2[\"m{}_{}\".format(count,name)]= 0\n",
      "/Users/admin/git_repos/ba900/assets_to_weights.py:97: SettingWithCopyWarning: \n",
      "A value is trying to be set on a copy of a slice from a DataFrame.\n",
      "Try using .loc[row_indexer,col_indexer] = value instead\n",
      "\n",
      "See the caveats in the documentation: https://pandas.pydata.org/pandas-docs/stable/user_guide/indexing.html#returning-a-view-versus-a-copy\n",
      "  df2[\"m{}_{}\".format(count,name)]+= df2[(df2['ItemNumber']==str(abs(number)))&(df2['ColumnCode']=='5')].Value.values[0]\n",
      "/Users/admin/git_repos/ba900/assets_to_weights.py:90: SettingWithCopyWarning: \n",
      "A value is trying to be set on a copy of a slice from a DataFrame.\n",
      "Try using .loc[row_indexer,col_indexer] = value instead\n",
      "\n",
      "See the caveats in the documentation: https://pandas.pydata.org/pandas-docs/stable/user_guide/indexing.html#returning-a-view-versus-a-copy\n",
      "  df2[\"m{}_{}\".format(count,name)] = temp2 + temp\n",
      "/Users/admin/opt/anaconda3/envs/py38Geo/lib/python3.8/site-packages/pandas/core/indexing.py:1717: SettingWithCopyWarning: \n",
      "A value is trying to be set on a copy of a slice from a DataFrame.\n",
      "Try using .loc[row_indexer,col_indexer] = value instead\n",
      "\n",
      "See the caveats in the documentation: https://pandas.pydata.org/pandas-docs/stable/user_guide/indexing.html#returning-a-view-versus-a-copy\n",
      "  isetter(loc, v)\n"
     ]
    },
    {
     "name": "stdout",
     "output_type": "stream",
     "text": [
      "all data returned for  ABSA BANK LTD \n",
      "all data returned for  THE STANDARD BANK OF S A LTD \n",
      "all data returned for  NEDBANK LTD \n",
      "all data returned for  FIRSTRAND BANK LIMITED \n",
      "all data returned for  CAPITEC BANK \n"
     ]
    }
   ],
   "source": [
    "# show portfolio weights for absa's credit book\n",
    "from assets_to_weights import *\n",
    "\n",
    "transform=tranformer()\n",
    "\n",
    "years=[str(i) for i in range(2008,2021, 1)]\n",
    "months=[\"{:02d}\".format(i) for i in range(1,13)]\n",
    "\n",
    "\n",
    "top5=[ 'ABSA BANK LTD ',\\\n",
    "        'THE STANDARD BANK OF S A LTD ',\\\n",
    "        MASTER[MASTER['InstitutionDescription'].str.contains('NEDBANK')]['InstitutionDescription'].values[0],\\\n",
    "        MASTER[MASTER['InstitutionDescription'].str.contains('FIRSTRAND')]['InstitutionDescription'].values[0],\\\n",
    "        MASTER[MASTER['InstitutionDescription'].str.contains('CAPITEC BANK')]['InstitutionDescription'].values[0]\n",
    "      ]\n",
    "\n",
    "df=MASTER[MASTER.InstitutionDescription.isin(top5)]\n",
    "arr = np.empty((0,len(df[df['InstitutionDescription'].str.contains('ABSA BANK LTD ')].time.unique()))) \n",
    " \n",
    "for b in top5:\n",
    "    test=transform.get_bankdata(years,months,df, b)\n",
    "\n",
    "    # # we only need one entry per month - so select column code 7 and itemnumber 2 for example \n",
    "    test_weights=test[(test['ColumnCode']=='7')&(test['ItemNumber']=='2')]\n",
    "    test_weights.index=test_weights.time\n",
    "    # f = plt.figure()\n",
    "    # plt.title('ABSA portfolio weights', color='black') \n",
    "    # for column in test_weights[test.columns[-19:-10]]:\n",
    "    #     test_weights[column].plot(legend=column, ax=f.gca())\n",
    "    # plt.legend(loc='center left', bbox_to_anchor=(1.0, 0.5))\n",
    "    # plt.show()\n",
    "    weights_only=test_weights[test_weights.columns[-29:]] \n",
    "    d=weights_only.filter(like='Household_mortgages').squeeze().values \n",
    "    arr=np.vstack((arr,d))\n",
    " \n",
    " "
   ]
  },
  {
   "cell_type": "code",
   "execution_count": 190,
   "metadata": {},
   "outputs": [
    {
     "data": {
      "text/plain": [
       "Text(0.5, 1.0, 'Average portfolio weight mortages bank top 5 banks')"
      ]
     },
     "execution_count": 190,
     "metadata": {},
     "output_type": "execute_result"
    },
    {
     "data": {
      "image/png": "[encoded data removed]",
      "text/plain": [
       "<Figure size 432x288 with 1 Axes>"
      ]
     },
     "metadata": {
      "needs_background": "light"
     },
     "output_type": "display_data"
    }
   ],
   "source": [
    "\n",
    "#Mean of all banks\n",
    "import matplotlib.pyplot as plt\n",
    "plt.plot(test_weights.time,np.mean(arr,axis=0)  )\n",
    "plt.title('Average portfolio weight mortages bank top 5 banks')"
   ]
  },
  {
   "cell_type": "code",
   "execution_count": null,
   "metadata": {},
   "outputs": [],
   "source": []
  },
  {
   "cell_type": "code",
   "execution_count": 192,
   "metadata": {},
   "outputs": [
    {
     "name": "stdout",
     "output_type": "stream",
     "text": [
      "all data returned for  SASFIN BANK LTD \n",
      "1\n",
      "all data returned for  BIDVEST BANK LIMITED \n",
      "2\n",
      "all data returned for  BNP PARIBAS SA \n",
      "BNP PARIBAS SA  did not work\n",
      "3\n",
      "all data returned for  STATE BANK OF INDIA \n",
      "4\n",
      "all data returned for  NEDBANK LTD \n",
      "5\n",
      "all data returned for  ALBARAKA BANK LTD \n",
      "6\n",
      "all data returned for  ABSA BANK LTD \n",
      "7\n",
      "all data returned for  GBS MUTUAL BANK \n",
      "8\n",
      "all data returned for  BANK OF TAIWAN SOUTH AFRICA     BRANCH \n",
      "9\n",
      "all data returned for  INVESTEC BANK LTD \n",
      "10\n",
      "all data returned for  HABIB OVERSEAS BANK LTD \n",
      "11\n",
      "all data returned for  SOCIETE GENERALE JOHANNESBURG   BRANCH \n",
      "12\n",
      "all data returned for  AFRICAN BANK LIMITED \n",
      "13\n",
      "all data returned for  JPMORGAN CHASE BANK             \n",
      "14\n",
      "all data returned for  GRINDROD BANK LTD \n",
      "15\n",
      "all data returned for  CITIBANK N.A \n",
      "16\n",
      "all data returned for  CAPITEC BANK \n",
      "17\n",
      "all data returned for  VBS MUTUAL BANK \n",
      "18\n",
      "all data returned for  BANK OF CHINA LTD JHB BRANCH    \n",
      "19\n",
      "all data returned for  CANARA BANK \n",
      "CANARA BANK  did not work\n",
      "20\n",
      "all data returned for  THE STANDARD BANK OF S A LTD \n",
      "21\n",
      "all data returned for  HBZ BANK LTD \n",
      "22\n",
      "all data returned for  CHINA CONSTRUCTION BANK         CORPORATION - JHB BRANCH \n",
      "23\n",
      "all data returned for  THE HONGKONG AND SHANGHAI BANKING CORPORATION LIMITED - JOHANNESBURG BRANCH \n",
      "24\n",
      "all data returned for  MERCANTILE BANK LTD \n",
      "25\n",
      "all data returned for  THE S A BANK OF ATHENS LTD \n",
      "THE S A BANK OF ATHENS LTD  did not work\n",
      "26\n",
      "all data returned for  UBANK LIMITED \n",
      "27\n",
      "all data returned for  DEUTSCHE BANK AG \n",
      "28\n",
      "all data returned for  BANK OF BARODA \n",
      "29\n",
      "all data returned for  BANK OF INDIA - JOHANNESBURG BRANCH \n",
      "BANK OF INDIA - JOHANNESBURG BRANCH  did not work\n",
      "30\n",
      "all data returned for  FIRSTRAND BANK LIMITED \n",
      "31\n",
      "all data returned for  FINBOND MUTUAL BANK \n",
      "FINBOND MUTUAL BANK  did not work\n",
      "32\n",
      "all data returned for  STANDARD CHARTERED BANK \n",
      "33\n"
     ]
    }
   ],
   "source": [
    "all=MASTER['InstitutionDescription'].unique()\n",
    "banks=list(all)[:33]\n",
    "count=0\n",
    "arr = np.empty((0,len(df[df['InstitutionDescription'].str.contains('ABSA BANK LTD ')].time.unique()))) \n",
    "\n",
    "\n",
    "for b in banks:\n",
    "    test=transform.get_bankdata(years,months,MASTER, b)\n",
    "\n",
    "    # # we only need one entry per month - so select column code 7 and itemnumber 2 for example \n",
    "    test_weights=test[(test['ColumnCode']=='7')&(test['ItemNumber']=='2')]\n",
    "    test_weights.index=test_weights.time\n",
    "    # f = plt.figure()\n",
    "    # plt.title('ABSA portfolio weights', color='black') \n",
    "    # for column in test_weights[test.columns[-19:-10]]:\n",
    "    #     test_weights[column].plot(legend=column, ax=f.gca())\n",
    "    # plt.legend(loc='center left', bbox_to_anchor=(1.0, 0.5))\n",
    "    # plt.show()\n",
    "    weights_only=test_weights[test_weights.columns[-29:]] \n",
    "    d=weights_only.filter(like='Household_mortgages').squeeze().values \n",
    "    \n",
    "    try:\n",
    "        arr=np.vstack((arr,d))\n",
    "    except:\n",
    "        print(b,'did not work')\n",
    "    count+=1\n",
    "    print(count)\n"
   ]
  },
  {
   "cell_type": "code",
   "execution_count": 193,
   "metadata": {},
   "outputs": [
    {
     "data": {
      "text/plain": [
       "Text(0.5, 1.0, 'Average portfolio weight mortages all banks')"
      ]
     },
     "execution_count": 193,
     "metadata": {},
     "output_type": "execute_result"
    },
    {
     "data": {
      "image/png": "[encoded data removed]",
      "text/plain": [
       "<Figure size 432x288 with 1 Axes>"
      ]
     },
     "metadata": {
      "needs_background": "light"
     },
     "output_type": "display_data"
    }
   ],
   "source": [
    " \n",
    "#Mean of all banks\n",
    "import matplotlib.pyplot as plt\n",
    "plt.plot(test_weights.time,np.mean(arr,axis=0)  )\n",
    "plt.title('Average portfolio weight mortages all banks')"
   ]
  },
  {
   "cell_type": "markdown",
   "metadata": {},
   "source": [
    "## Household mortgage credit for SA top 5"
   ]
  },
  {
   "cell_type": "code",
   "execution_count": 170,
   "metadata": {},
   "outputs": [
    {
     "data": {
      "image/png": "[encoded data removed]",
      "text/plain": [
       "<Figure size 432x288 with 1 Axes>"
      ]
     },
     "metadata": {
      "needs_background": "light"
     },
     "output_type": "display_data"
    }
   ],
   "source": [
    "# show portfolio weights for absa's credit book\n",
    "from assets_to_weights import *\n",
    "\n",
    "transform=tranformer()\n",
    "\n",
    "years=[str(i) for i in range(2008,2021, 1)]\n",
    "months=[\"{:02d}\".format(i) for i in range(1,13)]\n",
    "\n",
    "\n",
    "top5=[ 'ABSA BANK LTD ',\\\n",
    "        'THE STANDARD BANK OF S A LTD ',\\\n",
    "        MASTER[MASTER['InstitutionDescription'].str.contains('NEDBANK')]['InstitutionDescription'].values[0],\\\n",
    "        MASTER[MASTER['InstitutionDescription'].str.contains('FIRSTRAND')]['InstitutionDescription'].values[0],\\\n",
    "        MASTER[MASTER['InstitutionDescription'].str.contains('CAPITEC BANK')]['InstitutionDescription'].values[0]\n",
    "      ]\n",
    "\n",
    "df=MASTER[MASTER.InstitutionDescription.isin(top5)]\n",
    "arr = np.empty((0,len(df[df['InstitutionDescription'].str.contains('ABSA BANK LTD ')].time.unique()))) \n",
    " \n",
    "for b in top5:\n",
    "    test=transform.get_bankdata(years,months,df, b)\n",
    "\n",
    "    # # we only need one entry per month - so select column code 7 and itemnumber 2 for example \n",
    "    test_weights=test[(test['ColumnCode']=='7')&(test['ItemNumber']=='2')]\n",
    "    test_weights.index=test_weights.time\n",
    "    # f = plt.figure()\n",
    "    # plt.title('ABSA portfolio weights', color='black') \n",
    "    # for column in test_weights[test.columns[-19:-10]]:\n",
    "    #     test_weights[column].plot(legend=column, ax=f.gca())\n",
    "    # plt.legend(loc='center left', bbox_to_anchor=(1.0, 0.5))\n",
    "    # plt.show()\n",
    "    weights_only=test_weights[test_weights.columns[-29:]] \n",
    "    d=weights_only.filter(like='Household_mortgages').squeeze().values \n",
    "    arr=np.vstack((arr,d))\n",
    "    \n",
    "import matplotlib.pyplot as plt\n",
    "\n",
    "top5=[ 'ABSA BANK LTD ',\\\n",
    "        'THE STANDARD BANK OF S A LTD ',\\\n",
    "        MASTER[MASTER['InstitutionDescription'].str.contains('NEDBANK')]['InstitutionDescription'].values[0],\\\n",
    "        MASTER[MASTER['InstitutionDescription'].str.contains('FIRSTRAND')]['InstitutionDescription'].values[0],\\\n",
    "        MASTER[MASTER['InstitutionDescription'].str.contains('CAPITEC BANK')]['InstitutionDescription'].values[0]\n",
    "      ]\n",
    "\n",
    "f = plt.figure()\n",
    "plt.title('Household mortgage portfolio weights', color='black')\n",
    " \n",
    "for i,name in zip(arr[:-1],top5[:-1]):\n",
    "    plt.plot(test_weights.time,i , label=name)\n",
    "\n",
    "plt.legend(loc='center left', bbox_to_anchor=(1.0, 0.5))\n",
    "plt.show()\n",
    " "
   ]
  },
  {
   "cell_type": "code",
   "execution_count": 142,
   "metadata": {},
   "outputs": [
    {
     "data": {
      "text/plain": [
       "array([0.25960144, 0.245513  , 0.24422092, 0.25612439, 0.25552579,\n",
       "       0.24741084, 0.26292057, 0.26287043, 0.25490991, 0.23394   ,\n",
       "       0.23441237, 0.23291089, 0.23031501, 0.23527679, 0.23709253,\n",
       "       0.24554587, 0.24675719, 0.25147671, 0.2494859 , 0.25140707,\n",
       "       0.25281239, 0.25186861, 0.25670306, 0.25965913, 0.26133534,\n",
       "       0.26340329, 0.28022958, 0.27897734, 0.28103515, 0.277361  ,\n",
       "       0.27647767, 0.27546591, 0.26742213, 0.27480853, 0.27598066])"
      ]
     },
     "execution_count": 142,
     "metadata": {},
     "output_type": "execute_result"
    }
   ],
   "source": [
    "weights_only.filter(like='Household_mortgages').squeeze().values "
   ]
  },
  {
   "cell_type": "markdown",
   "metadata": {},
   "source": [
    "# Show weights of one bank\n"
   ]
  },
  {
   "cell_type": "code",
   "execution_count": null,
   "metadata": {},
   "outputs": [],
   "source": [
    "# show portfolio weights for absa's credit book\n",
    "from assets_to_weights import *\n",
    "\n",
    "transform=tranformer()\n",
    "    \n",
    "years=[str(i) for i in range(2008,2020, 1)]\n",
    "months=[\"{:02d}\".format(i) for i in range(1,13)]\n",
    "helper_dict={}\n",
    "for y in years:\n",
    "    helper_dict[y]=months\n",
    "    \n",
    "BANK = MASTER[MASTER['InstitutionDescription']=='ABSA BANK LTD ']\n",
    "BANK['Value'] = pd.to_numeric(BANK['Value'])\n",
    "\n",
    "bank_year_and_month = []\n",
    "for key in helper_dict.keys():\n",
    "    for month in helper_dict[key]:\n",
    "        \n",
    "        df_bank_key_month =  BANK[(BANK['TheYear']==key)&(BANK['TheMonth']==month)]\n",
    "#         print((month),(key),df_bank_key_month )\n",
    "        try:\n",
    "            bank_year_and_month.append(transform.get_pf_weights_by_bank_29(df_bank_key_month))\n",
    "        except:\n",
    "            pass\n",
    " \n",
    "absa=pd.concat(bank_year_and_month) \n",
    "\n",
    "# we only need one entry per month - so select column code 7 and itemnumber 2 for example \n",
    "absa_weights=absa[(absa['ColumnCode']=='7')&(absa['ItemNumber']=='2')]\n",
    "absa_weights.index=absa_weights.time\n",
    "\n",
    "f = plt.figure()\n",
    "plt.title('ABSA portfolio weights', color='black')\n",
    " \n",
    "for column in absa_weights[absa.columns[-19:-10]]:\n",
    "    absa_weights[column].plot(legend=column, ax=f.gca())\n",
    "plt.legend(loc='center left', bbox_to_anchor=(1.0, 0.5))\n",
    "plt.show()\n",
    " "
   ]
  }
 ],
 "metadata": {
  "kernelspec": {
   "display_name": "Python 3",
   "language": "python",
   "name": "python3"
  },
  "language_info": {
   "codemirror_mode": {
    "name": "ipython",
    "version": 3
   },
   "file_extension": ".py",
   "mimetype": "text/x-python",
   "name": "python",
   "nbconvert_exporter": "python",
   "pygments_lexer": "ipython3",
   "version": "3.8.2"
  }
 },
 "nbformat": 4,
 "nbformat_minor": 4
}
