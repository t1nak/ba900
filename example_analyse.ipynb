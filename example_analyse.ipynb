{
 "cells": [
  {
   "cell_type": "markdown",
   "metadata": {},
   "source": [
    "## Load data"
   ]
  },
  {
   "cell_type": "code",
   "execution_count": null,
   "metadata": {},
   "outputs": [
    {
     "name": "stdout",
     "output_type": "stream",
     "text": [
      "./data/output/df2013.pkl\n",
      "./data/output/df2012.pkl\n",
      "./data/output/df2010.pkl\n",
      "./data/output/df2011.pkl\n",
      "./data/output/df2015.pkl\n",
      "./data/output/df2014.pkl\n",
      "./data/output/df2016.pkl\n",
      "./data/output/df2017.pkl\n",
      "./data/output/df2019.pkl\n",
      "./data/output/df2018.pkl\n",
      "./data/output/df2008.pkl\n",
      "./data/output/df2020.pkl\n",
      "./data/output/df2009.pkl\n"
     ]
    }
   ],
   "source": [
    "import os\n",
    "import pandas as pd\n",
    "import matplotlib.pyplot as plt\n",
    "import numpy as np\n",
    "import datetime\n",
    "import os\n",
    "import pandas as pd\n",
    "import matplotlib.pyplot as plt\n",
    "import numpy as np\n",
    "import datetime\n",
    "file_list=[]\n",
    "\n",
    "\n",
    "for filename in os.listdir('./data/output/'):\n",
    "    if filename.endswith(\".pkl\"):\n",
    "        unpickle = './data/output/'+str(filename)\n",
    "        print(unpickle)\n",
    "        file_list.append(pd.read_pickle(unpickle))\n",
    " \n",
    " \n",
    "MASTER = pd.concat(file_list)\n",
    "MASTER['time'] = pd.to_datetime(MASTER['time'])\n",
    "\n",
    "print(MASTER.columns)"
   ]
  },
  {
   "cell_type": "markdown",
   "metadata": {},
   "source": [
    "## Show banks"
   ]
  },
  {
   "cell_type": "code",
   "execution_count": null,
   "metadata": {},
   "outputs": [],
   "source": [
    "print(MASTER['InstitutionDescription'].unique())"
   ]
  },
  {
   "cell_type": "markdown",
   "metadata": {},
   "source": [
    "## Make asset weights for one bank"
   ]
  },
  {
   "cell_type": "code",
   "execution_count": null,
   "metadata": {},
   "outputs": [],
   "source": [
    "# show portfolio weights for absa's credit book\n",
    "from assets_to_weights import *\n",
    "years=[str(i) for i in range(2008,2020, 1)]\n",
    "months=[\"{:02d}\".format(i) for i in range(1,13)]\n",
    "\n",
    "helper_dict={}\n",
    "\n",
    "for y in years:\n",
    "    helper_dict[y]=months\n",
    "    \n",
    "BANK = MASTER[MASTER['InstitutionDescription']=='ABSA BANK LTD ']\n",
    "BANK['Value'] = pd.to_numeric(BANK['Value'])\n",
    "\n",
    "bank_year_and_month = []\n",
    "for key in helper_dict.keys():\n",
    "    for month in helper_dict[key]:\n",
    "        df_bank_key_month =  BANK[(BANK['TheYear']==key)&(BANK['TheMonth']==month)]\n",
    "        try:\n",
    "            bank_year_and_month.append(get_pf_weights_by_bank_29(df_bank_key_month))\n",
    "        except:\n",
    "            pass\n",
    " \n",
    "absa=pd.concat(bank_year_and_month) \n",
    "\n",
    "# we only need one entry per month - so select column code 7 and itemnumber 2 for example \n",
    "absa_weights=absa[(absa['ColumnCode']=='7')&(absa['ItemNumber']=='2')]\n",
    "absa_weights.index=absa_weights.time\n",
    "\n",
    "f = plt.figure()\n",
    "plt.title('ABSA portfolio weights', color='black')\n",
    " \n",
    "for column in absa_weights[absa.columns[-19:-10]]:\n",
    "    absa_weights[column].plot(legend=column, ax=f.gca())\n",
    "plt.legend(loc='center left', bbox_to_anchor=(1.0, 0.5))\n",
    "plt.show()"
   ]
  },
  {
   "cell_type": "code",
   "execution_count": null,
   "metadata": {},
   "outputs": [],
   "source": [
    "#make ass\n",
    "\n"
   ]
  },
  {
   "cell_type": "code",
   "execution_count": null,
   "metadata": {},
   "outputs": [],
   "source": []
  }
 ],
 "metadata": {
  "kernelspec": {
   "display_name": "Python 3",
   "language": "python",
   "name": "python3"
  },
  "language_info": {
   "codemirror_mode": {
    "name": "ipython",
    "version": 3
   },
   "file_extension": ".py",
   "mimetype": "text/x-python",
   "name": "python",
   "nbconvert_exporter": "python",
   "pygments_lexer": "ipython3",
   "version": "3.8.2"
  }
 },
 "nbformat": 4,
 "nbformat_minor": 4
}
